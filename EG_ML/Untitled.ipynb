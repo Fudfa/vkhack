{
 "cells": [
  {
   "cell_type": "code",
   "execution_count": 1,
   "id": "d6b2d824-925b-400c-bdc2-fc4b1a760359",
   "metadata": {
    "tags": []
   },
   "outputs": [
    {
     "name": "stdout",
     "output_type": "stream",
     "text": [
      "Defaulting to user installation because normal site-packages is not writeable\n",
      "Requirement already satisfied: fastparquet in ./.local/lib/python3.9/site-packages (2024.2.0)\n",
      "Requirement already satisfied: pandas>=1.5.0 in ./.local/lib/python3.9/site-packages (from fastparquet) (2.2.2)\n",
      "Requirement already satisfied: numpy>=1.20.3 in /opt/conda/lib/python3.9/site-packages (from fastparquet) (1.26.4)\n",
      "Requirement already satisfied: cramjam>=2.3 in ./.local/lib/python3.9/site-packages (from fastparquet) (2.8.3)\n",
      "Requirement already satisfied: fsspec in ./.local/lib/python3.9/site-packages (from fastparquet) (2024.3.1)\n",
      "Requirement already satisfied: packaging in /opt/conda/lib/python3.9/site-packages (from fastparquet) (23.1)\n",
      "Requirement already satisfied: python-dateutil>=2.8.2 in /opt/conda/lib/python3.9/site-packages (from pandas>=1.5.0->fastparquet) (2.8.2)\n",
      "Requirement already satisfied: pytz>=2020.1 in ./.local/lib/python3.9/site-packages (from pandas>=1.5.0->fastparquet) (2024.1)\n",
      "Requirement already satisfied: tzdata>=2022.7 in ./.local/lib/python3.9/site-packages (from pandas>=1.5.0->fastparquet) (2024.1)\n",
      "Requirement already satisfied: six>=1.5 in /opt/conda/lib/python3.9/site-packages (from python-dateutil>=2.8.2->pandas>=1.5.0->fastparquet) (1.16.0)\n"
     ]
    }
   ],
   "source": [
    "!pip install fastparquet"
   ]
  },
  {
   "cell_type": "code",
   "execution_count": 1,
   "id": "ca9c13c9-1b99-4425-8752-dff3e06d972d",
   "metadata": {
    "tags": []
   },
   "outputs": [],
   "source": [
    "import pandas as pd\n",
    "df1=pd.read_parquet('0000.parquet', engine='fastparquet')\n",
    "df2=pd.read_parquet('0001.parquet', engine='fastparquet')\n",
    "df3=pd.read_parquet('0002.parquet', engine='fastparquet')\n",
    "df4=pd.read_parquet('0003.parquet', engine='fastparquet')\n",
    "df5=pd.read_parquet('0004.parquet', engine='fastparquet')\n",
    "df6=pd.read_parquet('0005.parquet', engine='fastparquet')\n",
    "df7=pd.read_parquet('0006.parquet', engine='fastparquet')\n",
    "df8=pd.read_parquet('0007.parquet', engine='fastparquet')\n",
    "df9=pd.read_parquet('0008.parquet', engine='fastparquet')\n",
    "df10=pd.read_parquet('0009.parquet', engine='fastparquet')"
   ]
  },
  {
   "cell_type": "code",
   "execution_count": 3,
   "id": "2812a905-2e9c-4017-80fb-9e26326eb0ca",
   "metadata": {
    "tags": []
   },
   "outputs": [
    {
     "name": "stdout",
     "output_type": "stream",
     "text": [
      "Defaulting to user installation because normal site-packages is not writeable\n",
      "Requirement already satisfied: catboost in ./.local/lib/python3.9/site-packages (1.2.5)\n",
      "Requirement already satisfied: graphviz in ./.local/lib/python3.9/site-packages (from catboost) (0.20.3)\n",
      "Requirement already satisfied: matplotlib in ./.local/lib/python3.9/site-packages (from catboost) (3.8.4)\n",
      "Requirement already satisfied: numpy>=1.16.0 in /opt/conda/lib/python3.9/site-packages (from catboost) (1.26.4)\n",
      "Requirement already satisfied: pandas>=0.24 in ./.local/lib/python3.9/site-packages (from catboost) (2.2.2)\n",
      "Requirement already satisfied: scipy in ./.local/lib/python3.9/site-packages (from catboost) (1.13.0)\n",
      "Requirement already satisfied: plotly in ./.local/lib/python3.9/site-packages (from catboost) (5.21.0)\n",
      "Requirement already satisfied: six in /opt/conda/lib/python3.9/site-packages (from catboost) (1.16.0)\n",
      "Requirement already satisfied: python-dateutil>=2.8.2 in /opt/conda/lib/python3.9/site-packages (from pandas>=0.24->catboost) (2.8.2)\n",
      "Requirement already satisfied: pytz>=2020.1 in ./.local/lib/python3.9/site-packages (from pandas>=0.24->catboost) (2024.1)\n",
      "Requirement already satisfied: tzdata>=2022.7 in ./.local/lib/python3.9/site-packages (from pandas>=0.24->catboost) (2024.1)\n",
      "Requirement already satisfied: contourpy>=1.0.1 in ./.local/lib/python3.9/site-packages (from matplotlib->catboost) (1.2.1)\n",
      "Requirement already satisfied: cycler>=0.10 in ./.local/lib/python3.9/site-packages (from matplotlib->catboost) (0.12.1)\n",
      "Requirement already satisfied: fonttools>=4.22.0 in ./.local/lib/python3.9/site-packages (from matplotlib->catboost) (4.51.0)\n",
      "Requirement already satisfied: kiwisolver>=1.3.1 in ./.local/lib/python3.9/site-packages (from matplotlib->catboost) (1.4.5)\n",
      "Requirement already satisfied: packaging>=20.0 in /opt/conda/lib/python3.9/site-packages (from matplotlib->catboost) (23.1)\n",
      "Requirement already satisfied: pillow>=8 in ./.local/lib/python3.9/site-packages (from matplotlib->catboost) (10.3.0)\n",
      "Requirement already satisfied: pyparsing>=2.3.1 in ./.local/lib/python3.9/site-packages (from matplotlib->catboost) (3.1.2)\n",
      "Requirement already satisfied: importlib-resources>=3.2.0 in ./.local/lib/python3.9/site-packages (from matplotlib->catboost) (6.4.0)\n",
      "Requirement already satisfied: tenacity>=6.2.0 in ./.local/lib/python3.9/site-packages (from plotly->catboost) (8.2.3)\n",
      "Requirement already satisfied: zipp>=3.1.0 in /opt/conda/lib/python3.9/site-packages (from importlib-resources>=3.2.0->matplotlib->catboost) (3.11.0)\n"
     ]
    }
   ],
   "source": [
    "!pip install catboost"
   ]
  },
  {
   "cell_type": "code",
   "execution_count": 2,
   "id": "409940aa-5037-45c6-b28d-cd66e9546681",
   "metadata": {
    "tags": []
   },
   "outputs": [],
   "source": [
    "df = pd.concat ([df1, df2, df3,df4,df5,df6,df7,df8,df9,df10])\n",
    "feature_to_drop=['title','blocks.data','username','author_id','timestamp', 'id','blocks.type','comments.id','comments.timestamp','comments.parent_id','comments.text_markdown','comments.text_html','comments.images','comments.rating','comments.pluses',\t'comments.minuses','comments.author_id','comments.username','rating','pluses','minuses','url']\n",
    "df.drop(feature_to_drop, axis=1, inplace=True)\n",
    "df = df.explode('tags')\n",
    "import catboost as cb"
   ]
  },
  {
   "cell_type": "code",
   "execution_count": 5,
   "id": "3be32394-d0d7-48d3-bc81-cf6507dabacf",
   "metadata": {
    "tags": []
   },
   "outputs": [
    {
     "name": "stdout",
     "output_type": "stream",
     "text": [
      "Defaulting to user installation because normal site-packages is not writeable\n",
      "Requirement already satisfied: scikit-learn in ./.local/lib/python3.9/site-packages (1.4.2)\n",
      "Requirement already satisfied: numpy>=1.19.5 in /opt/conda/lib/python3.9/site-packages (from scikit-learn) (1.26.4)\n",
      "Requirement already satisfied: scipy>=1.6.0 in ./.local/lib/python3.9/site-packages (from scikit-learn) (1.13.0)\n",
      "Requirement already satisfied: joblib>=1.2.0 in ./.local/lib/python3.9/site-packages (from scikit-learn) (1.4.0)\n",
      "Requirement already satisfied: threadpoolctl>=2.0.0 in ./.local/lib/python3.9/site-packages (from scikit-learn) (3.4.0)\n"
     ]
    }
   ],
   "source": [
    "!pip install scikit-learn"
   ]
  },
  {
   "cell_type": "code",
   "execution_count": 3,
   "id": "79605d95-3e86-4253-a6cb-560305b1658a",
   "metadata": {
    "tags": []
   },
   "outputs": [
    {
     "data": {
      "text/plain": [
       "7953"
      ]
     },
     "execution_count": 3,
     "metadata": {},
     "output_type": "execute_result"
    }
   ],
   "source": [
    "df = df.sample(frac=0.007) # Get 30% of the data\n",
    "len(df)  "
   ]
  },
  {
   "cell_type": "code",
   "execution_count": 4,
   "id": "1617aaf2-36e0-4dd4-9bfd-0e2e1fdc742b",
   "metadata": {
    "tags": []
   },
   "outputs": [],
   "source": [
    "import pandas as pd\n",
    "from sklearn.feature_extraction.text import TfidfVectorizer\n",
    "from sklearn.preprocessing import LabelEncoder\n",
    "from catboost import CatBoostClassifier\n",
    "from sklearn.metrics import accuracy_score\n",
    "from sklearn.model_selection import train_test_split"
   ]
  },
  {
   "cell_type": "code",
   "execution_count": 5,
   "id": "2a673d25-9fd8-462e-b184-6d50fc618d27",
   "metadata": {
    "tags": []
   },
   "outputs": [
    {
     "name": "stdout",
     "output_type": "stream",
     "text": [
      "1\n",
      "1\n"
     ]
    }
   ],
   "source": [
    "print(1)\n",
    "# Разделение данных на обучающую и тестовую выборки\n",
    "X_train, X_test, y_train, y_test = train_test_split(df[['text_markdown']], df['tags'], test_size=0.4, random_state=42)\n",
    "print(1)\n",
    "# Создание"
   ]
  },
  {
   "cell_type": "code",
   "execution_count": 6,
   "id": "1f3a1536-9845-4cb2-a3c6-787eeea2dcdf",
   "metadata": {
    "tags": []
   },
   "outputs": [],
   "source": [
    "model = CatBoostClassifier(\n",
    "    depth=6,\n",
    "    iterations=1000,\n",
    "    \n",
    "    learning_rate=0.01,\n",
    "    loss_function='MultiClass',\n",
    "    # Главная фишка катбуста - работа с категориальными признаками\n",
    "    \n",
    "    # ignored_features = ignored_features,\n",
    "    \n",
    "    # Регуляризация и ускорение\n",
    "    colsample_bylevel=0.098,\n",
    "    subsample=0.95,\n",
    "    l2_leaf_reg=1,\n",
    "    max_bin=187,\n",
    "    \n",
    "    # Параметры скорения  \n",
    "    thread_count=-1,\n",
    "    bootstrap_type=\"Bernoulli\", \n",
    "    \n",
    "    # Важное!\n",
    "    auto_class_weights=\"SqrtBalanced\",\n",
    "    early_stopping_rounds=10,\n",
    "    verbose=10,\n",
    "    text_features=['text_markdown'] # Указываем название столбца с текстом\n",
    ")"
   ]
  },
  {
   "cell_type": "code",
   "execution_count": null,
   "id": "08dbbdf6-1394-488c-a5a3-ede151cb5c37",
   "metadata": {
    "tags": []
   },
   "outputs": [
    {
     "name": "stdout",
     "output_type": "stream",
     "text": [
      "0:\tlearn: 7.7592225\ttotal: 2m 20s\tremaining: 1d 14h 55m 32s\n",
      "10:\tlearn: 7.6917310\ttotal: 28m 1s\tremaining: 1d 17h 58m 57s\n"
     ]
    }
   ],
   "source": [
    "model.fit(X_train, y_train)\n",
    "\n",
    "# Предсказания\n",
    "predictions = model.predict(X_test)\n",
    "\n",
    "# Оценка модели\n",
    "print(\"Accuracy:\", accuracy_score(y_test, predictions))"
   ]
  },
  {
   "cell_type": "code",
   "execution_count": null,
   "id": "6faff0a9-a464-4c54-b855-d21cd13ac44c",
   "metadata": {},
   "outputs": [],
   "source": [
    "def predict_tag(title, text):\n",
    "    # Подготавливаем входные данные\n",
    "    input_df = pd.DataFrame({'text_markdown': [text]})\n",
    "    \n",
    "    # Предсказываем\n",
    "    predicted_tag = model.predict(input_df)\n",
    "    \n",
    "    return predicted_tag[0]  # Возвращает первый элемент, так как результатом будет одиночный тег\n",
    "\n",
    "# Пример использования\n",
    "predicted_tag = predict_tag('В детстве похожие камни находил на речке рядом')\n",
    "print(\"Предсказанный тег:\", predicted_tag)\n"
   ]
  },
  {
   "cell_type": "code",
   "execution_count": null,
   "id": "3a14efb8-30dc-4eb8-a1e0-6c7237ed34fe",
   "metadata": {},
   "outputs": [],
   "source": [
    "import matplotlib.pyplot as plt\n",
    "from sklearn.metrics import roc_curve, auc, f1_score, roc_auc_score\n",
    "from sklearn.preprocessing import label_binarize\n",
    "import numpy as np\n",
    "\n",
    "def plot_metrics(model, X_test, y_test):\n",
    "    # Предсказываем вероятности\n",
    "    y_scores = model.predict_proba(X_test)\n",
    "    \n",
    "    # Для ROC AUC нам нужны вероятности, поэтому проверяем, поддерживает ли модель predict_proba\n",
    "    if hasattr(model, \"predict_proba\"):\n",
    "        # Binarize the output labels for ROC curve\n",
    "        y_test_bin = label_binarize(y_test, classes=np.unique(y_test))\n",
    "        n_classes = y_test_bin.shape[1]\n",
    "\n",
    "        # Вычисляем ROC AUC для каждого класса\n",
    "        fpr = dict()\n",
    "        tpr = dict()\n",
    "        roc_auc = dict()\n",
    "        for i in range(n_classes):\n",
    "            fpr[i], tpr[i], _ = roc_curve(y_test_bin[:, i], y_scores[:, i])\n",
    "            roc_auc[i] = auc(fpr[i], tpr[i])\n",
    "\n",
    "        # Рисуем ROC кривую для каждого класса\n",
    "        plt.figure(figsize=(10, 8))\n",
    "        for i in range(n_classes):\n",
    "            plt.plot(fpr[i], tpr[i], label='ROC curve (area = %0.2f) for label %s' % (roc_auc[i], i))\n",
    "        plt.plot([0, 1], [0, 1], 'k--')\n",
    "        plt.xlim([0.0, 1.0])\n",
    "        plt.ylim([0.0, 1.05])\n",
    "        plt.xlabel('False Positive Rate')\n",
    "        plt.ylabel('True Positive Rate')\n",
    "        plt.title('Receiver operating characteristic example')\n",
    "        plt.legend(loc=\"lower right\")\n",
    "        plt.show()\n",
    "\n",
    "    # F1 Score\n",
    "    y_pred = model.predict(X_test)\n",
    "    f1 = f1_score(y_test, y_pred, average='weighted')  # Используем weighted для многоклассовой классификации\n",
    "    print(\"F1 Score: \", f1)\n"
   ]
  },
  {
   "cell_type": "code",
   "execution_count": null,
   "id": "7e9196e9-014e-4b2e-9cdd-fb481be91e69",
   "metadata": {},
   "outputs": [],
   "source": [
    "def show_predicted_tags_with_probabilities(model, X_test):\n",
    "    # Проверяем, поддерживает ли модель predict_proba\n",
    "    if hasattr(model, \"predict_proba\"):\n",
    "        probabilities = model.predict_proba(X_test)\n",
    "        class_labels = model.classes_\n",
    "        for index, prob in enumerate(probabilities):\n",
    "            print(f\"Sample {index + 1}:\")\n",
    "            for class_index, class_prob in enumerate(prob):\n",
    "                print(f\"   {class_labels[class_index]}: {class_prob:.4f}\")\n",
    "            print(\"\\n\")\n",
    "    else:\n",
    "        print(\"This model does not support probability predictions.\")\n"
   ]
  },
  {
   "cell_type": "code",
   "execution_count": 14,
   "id": "fe7a120d-f6e4-44fa-993e-2a015afb7cd9",
   "metadata": {},
   "outputs": [],
   "source": [
    "def save_catboost_model(model, filename):\n",
    "    model.save_model(filename, format='cbm')\n",
    "\n",
    "# Пример использования:\n",
    "save_catboost_model(model, 'catboost_model.cbm')\n"
   ]
  },
  {
   "cell_type": "code",
   "execution_count": null,
   "id": "29af612a-887e-4b95-9995-3a101f5fabb3",
   "metadata": {
    "tags": []
   },
   "outputs": [],
   "source": [
    "from catboost import CatBoostClassifier\n",
    "\n",
    "def load_catboost_model(filename):\n",
    "    model = CatBoostClassifier()\n",
    "    model.load_model(filename, format='cbm')\n",
    "    return model\n",
    "\n",
    "# Пример использования:\n",
    "# loaded_catboost_model = load_catboost_model('catboost_model.cbm')\n"
   ]
  }
 ],
 "metadata": {
  "kernelspec": {
   "display_name": "Python 3.9 (tf+gpu)",
   "language": "python",
   "name": "python_gpu"
  },
  "language_info": {
   "codemirror_mode": {
    "name": "ipython",
    "version": 3
   },
   "file_extension": ".py",
   "mimetype": "text/x-python",
   "name": "python",
   "nbconvert_exporter": "python",
   "pygments_lexer": "ipython3",
   "version": "3.9.18"
  }
 },
 "nbformat": 4,
 "nbformat_minor": 5
}
